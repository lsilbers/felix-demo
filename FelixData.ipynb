{
 "cells": [
  {
   "cell_type": "code",
   "execution_count": null,
   "metadata": {},
   "outputs": [],
   "source": [
    "import pandas as pd"
   ]
  },
  {
   "cell_type": "code",
   "execution_count": null,
   "metadata": {},
   "outputs": [],
   "source": [
    "df_tec = pd.read_csv('tec.csv')\n",
    "df = pd.read_csv('clean.csv')"
   ]
  },
  {
   "cell_type": "code",
   "execution_count": null,
   "metadata": {},
   "outputs": [],
   "source": [
    "WS = 'Wind_speed'\n",
    "EP = 'Electrical_power_[kW]'\n",
    "\n",
    "def do_interpolation(lower_speed, lower_power, high_speed, high_power, speed):\n",
    "    # code for interpolation goes here @Felix you might want to check this, I just did it off the top of my head\n",
    "    return lower_power + (high_power - lower_power) * ((speed - lower_speed)/(high_speed - lower_speed))\n",
    "\n",
    "def energy_for_speed(speed):\n",
    "    upper = speed + 0.5\n",
    "    lower = speed - 0.5\n",
    "    data = df_tec[(df_tec[WS] <= upper) & (df_tec[WS] >= lower)]\n",
    "    # 4 cases - \n",
    "    # 1. there are no values. in this case we will fill in 0 but probably you want to have something smarter\n",
    "    if len(data) == 0:\n",
    "        return 0\n",
    "    # 2. there is 1 vale in which case it is the one we want to use\n",
    "    if len(data) == 1:\n",
    "        return data.iloc[0][EP]\n",
    "    # 3, 4 either there are 3 values, in which case the middle one is the exact value, or there are 2 values and\n",
    "    # we need to interpolate\n",
    "    if len(data) > 2:\n",
    "        return data.iloc[1][EP]\n",
    "    else:\n",
    "        low = data.iloc[0]\n",
    "        lower_speed = low[WS]\n",
    "        lower_power = low[EP]\n",
    "        high = data.iloc[1]\n",
    "        high_speed = high[WS]\n",
    "        high_power = high[EP]\n",
    "        return do_interpolation(lower_speed, lower_power, high_speed, high_power, speed)\n",
    "        "
   ]
  },
  {
   "cell_type": "code",
   "execution_count": null,
   "metadata": {},
   "outputs": [],
   "source": [
    "df['interpolated'] = df['speed'].apply(energy_for_speed)"
   ]
  },
  {
   "cell_type": "code",
   "execution_count": null,
   "metadata": {},
   "outputs": [],
   "source": [
    "df"
   ]
  },
  {
   "cell_type": "code",
   "execution_count": null,
   "metadata": {},
   "outputs": [],
   "source": []
  }
 ],
 "metadata": {
  "kernelspec": {
   "display_name": "Python 3",
   "language": "python",
   "name": "python3"
  },
  "language_info": {
   "codemirror_mode": {
    "name": "ipython",
    "version": 3
   },
   "file_extension": ".py",
   "mimetype": "text/x-python",
   "name": "python",
   "nbconvert_exporter": "python",
   "pygments_lexer": "ipython3",
   "version": "3.6.5"
  }
 },
 "nbformat": 4,
 "nbformat_minor": 2
}
